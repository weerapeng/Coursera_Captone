{
    "nbformat_minor": 1, 
    "cells": [
        {
            "source": "# Introduction/Business Problem section in final report", 
            "cell_type": "markdown", 
            "metadata": {
                "collapsed": true
            }
        }, 
        {
            "source": "# Project Name: Finding location to open new Thai Restuarant in Toronto, Canada", 
            "cell_type": "markdown", 
            "metadata": {}
        }, 
        {
            "source": "The project of finding location to open Thai restuarant in Toronto, Cananda. \nThis project uses the lacation data tools to explore a geographical location, especially the Foursquare location data to compare neighborhoods in Toronto.", 
            "cell_type": "markdown", 
            "metadata": {}
        }, 
        {
            "source": "Introduction:\n\nNot every available space is right for a restaurant. A good restaurant location is harder to find than some people think. \nOf course, food and service are important to the success of a restaurant, but the location can be just as crucial, especially in the early years.\nKnow Your Neighbors When looking for a restaurant location, consider who else is doing business in the neighborhood. Are there already half a dozen restaurants with the same concept as yours? ", 
            "cell_type": "markdown", 
            "metadata": {}
        }, 
        {
            "source": "Business Problem :\n\nFinding the suitable location for the entrepreneur to starting the new Thai Restaurant in Toronto is quite difficult in the past, especially because of the big area of this city and lack of data about geographical location, neighborhood, and people's life style.\n\nNow that we have been equipped with the skills and the tools to use location data to explore a geographical location, over the course of machine learning, we have the opportunity to be as creative and come up with an idea to leverage the Foursquare location data to explore or compare neighborhoods of our choice or to come up with a problem that we can use the Foursquare location data to solve. \n", 
            "cell_type": "markdown", 
            "metadata": {}
        }, 
        {
            "source": "Data :\nTo accomplish this project, we will use the data as below;\n1. list of neighborhoods in Toronto\n2. Latitude and Longitude of the neighborhoods\n3. Venue data related to Total Resturants in Toronto ,especially Thai Restuarants located in this city", 
            "cell_type": "markdown", 
            "metadata": {}
        }, 
        {
            "execution_count": null, 
            "cell_type": "code", 
            "metadata": {}, 
            "outputs": [], 
            "source": ""
        }
    ], 
    "metadata": {
        "kernelspec": {
            "display_name": "Python 3.6", 
            "name": "python3", 
            "language": "python"
        }, 
        "language_info": {
            "mimetype": "text/x-python", 
            "nbconvert_exporter": "python", 
            "version": "3.6.8", 
            "name": "python", 
            "file_extension": ".py", 
            "pygments_lexer": "ipython3", 
            "codemirror_mode": {
                "version": 3, 
                "name": "ipython"
            }
        }
    }, 
    "nbformat": 4
}