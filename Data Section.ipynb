{
    "nbformat_minor": 1, 
    "cells": [
        {
            "source": "# Data Section", 
            "cell_type": "markdown", 
            "metadata": {
                "collapsed": true
            }
        }, 
        {
            "source": "# 1. Download Dataset", 
            "cell_type": "markdown", 
            "metadata": {}
        }, 
        {
            "source": "1.1 We need the data set of list of postal codes of Canada, which we can download via link:    https://en.wikipedia.org/wiki/List_of_postal_codes_of_Canada:_M' and we get", 
            "cell_type": "markdown", 
            "metadata": {}
        }, 
        {
            "source": "1.2 We use the BeautifulSoup to extract the data table that contains 3 columns : Postcode, Borough Neighbourhood. Then we save in the file name \"toronto.csv\"", 
            "cell_type": "markdown", 
            "metadata": {}
        }, 
        {
            "source": "1.3 We have to clean the dataset in toronto.csv that has the\"Not assigned\" data and combine the same postal code into one ron with the neighborhood separated with comma.", 
            "cell_type": "markdown", 
            "metadata": {}
        }, 
        {
            "source": "1.4 We get a csv file that has the geographical coordinatted of each postal code via Link: http://cocl.us/Geospatial_data\n    and name this file \"Torontolonglatdata.csv\"", 
            "cell_type": "markdown", 
            "metadata": {}
        }, 
        {
            "source": "1.5 In \"Torontolonglatdata.csv\" file, we have 3 columns that is Postal Code,Latitude and Longitude.", 
            "cell_type": "markdown", 
            "metadata": {}
        }, 
        {
            "source": "1.6 We merge the data from toronto.csv and Torontolonglatdata.csv to get new table which has 5 columns : Postal code, Borough, Neighborhood, Latitude, and Longitude.", 
            "cell_type": "markdown", 
            "metadata": {}
        }, 
        {
            "source": "# 2. Expore and Cluster the dataset", 
            "cell_type": "markdown", 
            "metadata": {}
        }, 
        {
            "source": "2.1 Explore and cluster the neighborhoods in Toronto by using the geopy library to get the latitude and longitude values of Toronto", 
            "cell_type": "markdown", 
            "metadata": {}
        }, 
        {
            "source": "2.2 We create a map of Toronto with neighborhoods superimposed on top.", 
            "cell_type": "markdown", 
            "metadata": {}
        }, 
        {
            "source": "2.3 We expore the dataset of venues with in our limit radius by connect foursquare API and then we can get the nearby venues returned for each neighborhoods.", 
            "cell_type": "markdown", 
            "metadata": {}
        }, 
        {
            "source": "2.4 We group rows by neighborhood and calculate the total number of restaurants in each region.", 
            "cell_type": "markdown", 
            "metadata": {}
        }, 
        {
            "source": "2.5 We run K-means to cluster the neighborhoods into  4 clusters and show all clusters in the map.", 
            "cell_type": "markdown", 
            "metadata": {}
        }, 
        {
            "source": "# 3. Examine Cluster", 
            "cell_type": "markdown", 
            "metadata": {}
        }, 
        {
            "source": "3.1. We explore each cluster.", 
            "cell_type": "markdown", 
            "metadata": {}
        }, 
        {
            "source": "3.2. We choose the suitable cluster which has no Thai Restaurant lacated in its area.", 
            "cell_type": "markdown", 
            "metadata": {}
        }, 
        {
            "source": "3.3. We create a map that shows the name of Neighborhood, cluster label , total number of restuarant, and total number of Thai Restuarant. ", 
            "cell_type": "markdown", 
            "metadata": {}
        }, 
        {
            "execution_count": null, 
            "cell_type": "code", 
            "metadata": {}, 
            "outputs": [], 
            "source": ""
        }
    ], 
    "metadata": {
        "kernelspec": {
            "display_name": "Python 3.6", 
            "name": "python3", 
            "language": "python"
        }, 
        "language_info": {
            "mimetype": "text/x-python", 
            "nbconvert_exporter": "python", 
            "version": "3.6.8", 
            "name": "python", 
            "file_extension": ".py", 
            "pygments_lexer": "ipython3", 
            "codemirror_mode": {
                "version": 3, 
                "name": "ipython"
            }
        }
    }, 
    "nbformat": 4
}